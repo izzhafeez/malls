{
 "cells": [
  {
   "cell_type": "code",
   "execution_count": 7,
   "id": "949c5397",
   "metadata": {},
   "outputs": [],
   "source": [
    "from wilcoxon.sheets import *\n",
    "from wilcoxon.geo import *\n",
    "from wilcoxon.utils import *\n",
    "import pandas as pd"
   ]
  },
  {
   "cell_type": "code",
   "execution_count": 34,
   "id": "bbe217d9",
   "metadata": {},
   "outputs": [],
   "source": [
    "df = getGeo(\"Malls Alternative\")\n",
    "school = getGeo(\"Schools\")"
   ]
  },
  {
   "cell_type": "code",
   "execution_count": 35,
   "id": "4bf9499b",
   "metadata": {},
   "outputs": [],
   "source": [
    "mlat = df.Latitude\n",
    "mlong = df.Longitude\n",
    "name = school.Name\n",
    "slat = school.Latitude\n",
    "slong = school.Longitude"
   ]
  },
  {
   "cell_type": "code",
   "execution_count": 36,
   "id": "160d5b30",
   "metadata": {},
   "outputs": [],
   "source": [
    "mall = df.Name\n",
    "result = []\n",
    "sc = []\n",
    "for i in range(len(mlat)):\n",
    "    m = 10000\n",
    "    s = \"\"\n",
    "    for j in range(len(slat)):\n",
    "        d = dist(mlong[i],mlat[i],slong[j],slat[j])\n",
    "        if d < m:\n",
    "            m = d\n",
    "            s = name[j]\n",
    "    result.append(round(m*1000,1))\n",
    "    sc.append(s)"
   ]
  },
  {
   "cell_type": "code",
   "execution_count": 43,
   "id": "395ba270",
   "metadata": {},
   "outputs": [],
   "source": [
    "pd.Series([\" \".join([str(x) for x in i]) for i in zip(sc, result)]).to_clipboard(index=False, header=False)"
   ]
  },
  {
   "cell_type": "code",
   "execution_count": 38,
   "id": "11c33364",
   "metadata": {},
   "outputs": [
    {
     "data": {
      "text/plain": [
       "[('Rivervale Mall', 35.8, 'Rivervale Primary School'),\n",
       " ('Orchard Gateway', 299.9, 'Anglo-Chinese School (Junior)'),\n",
       " ('Century Square', 73.2, 'Tampines Primary School'),\n",
       " ('Eastpoint Mall', 90.4, 'Changkat Changi Secondary School'),\n",
       " ('Katong Shopping Centre', 125.2, 'Tanjong Katong Primary School'),\n",
       " ('Punggol Plaza', 103.5, 'Greendale Primary School'),\n",
       " ('The Centrepoint', 235.1, 'Anglo-Chinese School (Junior)'),\n",
       " ('Junction 10', 88.0, 'West View Primary School'),\n",
       " ('Orchard Central', 265.3, 'Anglo-Chinese School (Junior)'),\n",
       " ('313@Somerset', 331.5, 'River Valley Primary School'),\n",
       " ('Causeway Point', 97.3, 'Si Ling Primary School'),\n",
       " ('Hillion Mall', 111.4, 'Fajar Secondary School'),\n",
       " ('Downtown East', 92.5, 'Hai Sing Catholic School'),\n",
       " ('Seletar Mall', 106.6, 'Sengkang Green Primary School'),\n",
       " ('Tampines Mall', 101.0, 'Tampines Secondary School'),\n",
       " ('West Coast Plaza', 128.5, 'Kent Ridge Secondary School'),\n",
       " ('Bukit Panjang Plaza', 122.4, 'Fajar Secondary School'),\n",
       " ('Clementi Mall', 122.8, 'Clementi Primary School'),\n",
       " ('Tiong Bahru Plaza', 160.3, 'Zhangde Primary School'),\n",
       " ('Junction 8', 168.4, 'Guangyang Primary School'),\n",
       " ('White Sands', 161.5, 'Meridian Secondary School'),\n",
       " ('Bedok Point', 149.5, 'Fengshan Primary School'),\n",
       " ('Hougang Mall', 151.7, \"Holy Innocents' Primary School\"),\n",
       " ('Waterway Point', 170.4, 'Edgefield Secondary School'),\n",
       " ('Tampines 1', 161.3, 'Tampines Secondary School'),\n",
       " ('Sun Plaza', 181.6, 'Sembawang Primary School'),\n",
       " ('Junction 9', 180.7, 'Northland Secondary School'),\n",
       " ('Our Tampines Hub', 192.0, 'Junyuan Primary School'),\n",
       " ('Tanjong Pagar Centre', 614.0, 'Cantonment Primary School'),\n",
       " ('Hougang 1', 152.0, 'Hougang Primary School'),\n",
       " ('Rail Mall', 202.3, 'CHIJ Our Lady Queen of Peace'),\n",
       " ('Mandarin Gallery', 218.8, 'River Valley Primary School'),\n",
       " ('City Square Mall', 232.6, 'Stamford Primary School'),\n",
       " ('Bugis Junction', 227.8, 'Stamford Primary School'),\n",
       " ('Velocity@Novena Square', 198.0, \"St. Joseph's Institution Junior\"),\n",
       " ('Loyang Point', 255.1, 'Pasir Ris Primary School'),\n",
       " ('Northpoint City', 232.2, 'Xishan Primary School'),\n",
       " ('Mustafa Centre', 260.8, 'Stamford Primary School'),\n",
       " ('i12 Katong', 299.8, \"Haig Girls' School\"),\n",
       " ('Square 2', 179.0, \"St. Joseph's Institution Junior\"),\n",
       " ('Compass One', 266.4, 'North Vista Primary School'),\n",
       " ('The Paragon', 257.4, 'River Valley Primary School'),\n",
       " ('JCube', 270.2, 'Yuhua Primary School'),\n",
       " ('KINEX', 213.1, \"Tanjong Katong Girls' School\"),\n",
       " ('Ngee Ann City', 253.8, 'River Valley Primary School'),\n",
       " ('West Mall', 256.3, 'Dazhong Primary School'),\n",
       " ('Lot One', 167.3, 'South View Primary School'),\n",
       " ('United Square', 223.1, \"St. Joseph's Institution Junior\"),\n",
       " ('Suntec City', 260.1, 'Stamford Primary School'),\n",
       " ('NEX', 330.0, 'Zhonghua Secondary School'),\n",
       " ('Clarke Quay Central', 393.2, \"St. Margaret's Primary School\"),\n",
       " ('IKEA Alexandra', 265.6, 'Queenstown Primary School'),\n",
       " ('Bugis Street', 303.4, 'Stamford Primary School'),\n",
       " ('Chinatown Point', 513.2, \"St. Margaret's Primary School\"),\n",
       " ('AMK Hub', 301.1, 'Teck Ghee Primary School'),\n",
       " ('Westgate', 298.3, 'Yuhua Primary School'),\n",
       " ('IKEA Tampines', 289.9, 'Meridian Primary School'),\n",
       " ('Bedok Mall', 305.2, 'Fengshan Primary School'),\n",
       " ('Far East Plaza', 374.4, 'Anglo-Chinese School (Primary)'),\n",
       " ('Parkway Parade', 387.2, \"Haig Girls' School\"),\n",
       " ('Marina Square', 328.7, 'Stamford Primary School'),\n",
       " ('VivoCity', 293.5, \"CHIJ St. Theresa's Convent\"),\n",
       " ('Sim Lim Square', 354.0, 'Farrer Park Primary School'),\n",
       " ('Lucky Plaza', 336.5, 'River Valley Primary School'),\n",
       " ('The Star Vista', 372.7, 'Fairfield Methodist School (Primary)'),\n",
       " ('Singpost Centre', 320.5, \"Tanjong Katong Girls' School\"),\n",
       " ('Jurong Point', 363.2, 'Corporation Primary School'),\n",
       " ('Anchorpoint', 334.5, 'Queenstown Primary School'),\n",
       " ('Bugis+', 376.5, 'Stamford Primary School'),\n",
       " ('Jem', 360.7, 'Yuhua Primary School'),\n",
       " ('Queensway Shopping Centre', 362.1, 'Queensway Secondary School'),\n",
       " ('Sembawang Shopping Centre', 393.1, 'Wellington Primary School'),\n",
       " ('Millenia Walk', 376.9, 'Stamford Primary School'),\n",
       " ('Heartland Mall', 226.2, \"Methodist Girls' School (Secondary)\"),\n",
       " ('Wisma Atria', 385.1, 'River Valley Primary School'),\n",
       " ('Paya Lebar Quarter', 368.4, \"Tanjong Katong Girls' School\"),\n",
       " ('Paya Lebar Square', 379.8, 'Chung Cheng High School (Main)'),\n",
       " ('IMM', 433.1, 'Commonwealth Secondary School'),\n",
       " ('Great World City', 430.1, 'River Valley Primary School'),\n",
       " ('One Raffles Place', 753.5, 'Farrer Park Primary School'),\n",
       " ('Funan', 527.7, \"St. Margaret's Primary School\"),\n",
       " ('Plaza Singapura', 143.3, \"St. Margaret's Primary School\"),\n",
       " ('ION Orchard', 493.1, 'River Valley Primary School'),\n",
       " ('Changi City Point', 513.7, 'East Spring Primary School'),\n",
       " ('HarbourFront Centre', 388.5, \"CHIJ St. Theresa's Convent\"),\n",
       " ('Golden Mile Complex', 510.0, 'Bendemeer Primary School'),\n",
       " ('Raffles City', 526.7, 'Stamford Primary School'),\n",
       " ('Marina Bay Sands', 557.0, 'Stamford Primary School'),\n",
       " ('Wheelock Place', 506.7, \"Singapore Chinese Girls' School\"),\n",
       " ('One Fullerton', 609.3, 'Stamford Primary School'),\n",
       " ('Resorts World Sentosa', 545.9, \"CHIJ St. Theresa's Convent\"),\n",
       " ('Marina One', 858.3, 'Stamford Primary School'),\n",
       " ('Alexandra Retail Centre', 699.6, 'New Town Primary School'),\n",
       " ('Kallang Leisure Park', 723.4, 'Dunman High School'),\n",
       " ('Marina Bay Link', 721.6, 'Stamford Primary School'),\n",
       " ('Kallang Wave Mall', 818.2, \"Cedar Girls' Secondary School\"),\n",
       " ('FairPrice Hub', 1046.5, 'Juying Secondary School'),\n",
       " ('Grandstand Car Mall', 953.1, 'Hwa Chong Institution'),\n",
       " ('Changi Airport T1,T2,T3,T4', 2729.0, 'Pasir Ris Primary School'),\n",
       " ('Jewel Changi Airport', 3017.2, 'Pasir Ris Primary School')]"
      ]
     },
     "execution_count": 38,
     "metadata": {},
     "output_type": "execute_result"
    }
   ],
   "source": [
    "list(zip(mall, result, sc))"
   ]
  }
 ],
 "metadata": {
  "kernelspec": {
   "display_name": "Python 3",
   "language": "python",
   "name": "python3"
  },
  "language_info": {
   "codemirror_mode": {
    "name": "ipython",
    "version": 3
   },
   "file_extension": ".py",
   "mimetype": "text/x-python",
   "name": "python",
   "nbconvert_exporter": "python",
   "pygments_lexer": "ipython3",
   "version": "3.8.2"
  }
 },
 "nbformat": 4,
 "nbformat_minor": 5
}
